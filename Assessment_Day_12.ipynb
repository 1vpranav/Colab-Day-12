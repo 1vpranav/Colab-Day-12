{
  "nbformat": 4,
  "nbformat_minor": 0,
  "metadata": {
    "colab": {
      "name": "Assessment Day 12.ipynb",
      "version": "0.3.2",
      "provenance": [],
      "collapsed_sections": [],
      "include_colab_link": true
    },
    "kernelspec": {
      "name": "python3",
      "display_name": "Python 3"
    }
  },
  "cells": [
    {
      "cell_type": "markdown",
      "metadata": {
        "id": "view-in-github",
        "colab_type": "text"
      },
      "source": [
        "<a href=\"https://colab.research.google.com/github/1vpranav/Colab-Day-12/blob/master/Assessment_Day_12.ipynb\" target=\"_parent\"><img src=\"https://colab.research.google.com/assets/colab-badge.svg\" alt=\"Open In Colab\"/></a>"
      ]
    },
    {
      "cell_type": "code",
      "metadata": {
        "id": "akK1zJNFh_4q",
        "colab_type": "code",
        "colab": {}
      },
      "source": [
        "import turtle \n",
        "\n",
        "turtle.color(\"green\")\n",
        "turtle.begin_fill()\n",
        "turtle.circle(130,180)\n",
        "turtle.end_fill()\n",
        "turtle.hideturtle()\n",
        "turtle.color(\"orange\")\n",
        "turtle.begin_fill()\n",
        "turtle.circle(130,180)\n",
        "turtle.end_fill()\n",
        "turtle.hideturtle()"
      ],
      "execution_count": 0,
      "outputs": []
    },
    {
      "cell_type": "code",
      "metadata": {
        "id": "lzrOtQi7i7M2",
        "colab_type": "code",
        "colab": {}
      },
      "source": [
        "#Draw a Spirling Square with Pen color as 'Red'\n",
        "import turtle as y\n",
        "a=y.Turtle()\n",
        "a.pencolor('red')\n",
        "for i in range (100):\n",
        "    a.forward(i)\n",
        "    a.left(91)\n",
        "y.done()\n"
      ],
      "execution_count": 0,
      "outputs": []
    },
    {
      "cell_type": "code",
      "metadata": {
        "id": "Cd_VoAvzi_cV",
        "colab_type": "code",
        "colab": {}
      },
      "source": [
        "def printLarge(n):\n",
        "    large = 0\n",
        "    while n != 0:\n",
        "        r = n % 10\n",
        "        if large < r:\n",
        "            large = r\n",
        "        n = n // 10\n",
        "    return large\n",
        "printLarge(195263)"
      ],
      "execution_count": 0,
      "outputs": []
    },
    {
      "cell_type": "code",
      "metadata": {
        "id": "7Pmdjmw-jCqA",
        "colab_type": "code",
        "colab": {}
      },
      "source": [
        "def isPalindrome(n):\n",
        "    rev = 0\n",
        "    buffer = n\n",
        "    while n!= 0:\n",
        "        r = n % 10\n",
        "        rev = rev * 10 + r\n",
        "        n = n // 10\n",
        "    if rev == buffer:\n",
        "        return True\n",
        "    else:\n",
        "        return False\n",
        "    return"
      ],
      "execution_count": 0,
      "outputs": []
    },
    {
      "cell_type": "code",
      "metadata": {
        "id": "NWyKH-WAjHMM",
        "colab_type": "code",
        "colab": {}
      },
      "source": [
        "def countPalindrome(lb,ub):\n",
        "    cnt = 0\n",
        "    while lb != ub:\n",
        "        # Implement\n",
        "        if isPalindrome(lb) == True:\n",
        "            cnt = cnt + 1\n",
        "        lb = lb + 1\n",
        "    return cnt\n",
        "countPalindrome(1,10)"
      ],
      "execution_count": 0,
      "outputs": []
    }
  ]
}